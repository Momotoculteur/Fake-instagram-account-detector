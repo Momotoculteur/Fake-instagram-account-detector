{
 "cells": [
  {
   "attachments": {},
   "cell_type": "markdown",
   "metadata": {},
   "source": [
    "# Introduction\n",
    "Le but ici est de se faire un algo capable de classer si un compte Insta est fake ou non.  \n",
    "On va voir dans un premier temps voir comment charger les données, les trier et netoyer si besoin. On va éssayer de mettre en avant certaines caractèristiques qui serait importantes pour comprendre notre problème.  \n",
    "Dans un second temps on s'attaquera au coeur du problème, à savoir coder un algo de machine learning capable de faire de la classification sur un ensemble de features qui soit des int, des float, des strings ou encore des bool.\n"
   ]
  },
  {
   "attachments": {},
   "cell_type": "markdown",
   "metadata": {},
   "source": [
    "# Tutoriel\n",
    "## Data vizualisation"
   ]
  },
  {
   "attachments": {},
   "cell_type": "markdown",
   "metadata": {},
   "source": [
    "### Chargement des libs\n",
    "Ok ici on initialise les libs dont on aura besoin pour le reste du tuto."
   ]
  },
  {
   "cell_type": "code",
   "execution_count": 3,
   "metadata": {},
   "outputs": [],
   "source": [
    "import pandas as pd\n",
    "import matplotlib.pyplot as plt\n",
    "import numpy as np\n",
    "import seaborn as sns\n",
    "import plotly as ply"
   ]
  },
  {
   "attachments": {},
   "cell_type": "markdown",
   "metadata": {},
   "source": [
    "Ici on charge nos données avant Pandas 2.0 ( gngngn Polars c'est plus rapide que Pandas, je vous vois venir )"
   ]
  },
  {
   "cell_type": "code",
   "execution_count": 4,
   "metadata": {},
   "outputs": [],
   "source": [
    "trainData = pd.read_csv('./dataset/train.csv')\n",
    "testData = pd.read_csv('./dataset/test.csv')"
   ]
  },
  {
   "attachments": {},
   "cell_type": "markdown",
   "metadata": {},
   "source": [
    "Commençons par visualiser quelques infos sur le jeu de train :"
   ]
  },
  {
   "attachments": {},
   "cell_type": "markdown",
   "metadata": {},
   "source": [
    "Valeurs manquantes :"
   ]
  },
  {
   "cell_type": "code",
   "execution_count": 14,
   "metadata": {},
   "outputs": [
    {
     "name": "stdout",
     "output_type": "stream",
     "text": [
      "profile pic             0\n",
      "nums/length username    0\n",
      "fullname words          0\n",
      "nums/length fullname    0\n",
      "name==username          0\n",
      "description length      0\n",
      "external URL            0\n",
      "private                 0\n",
      "#posts                  0\n",
      "#followers              0\n",
      "#follows                0\n",
      "fake                    0\n",
      "dtype: int64\n"
     ]
    }
   ],
   "source": [
    "print(trainData.isnull().sum())"
   ]
  },
  {
   "attachments": {},
   "cell_type": "markdown",
   "metadata": {},
   "source": [
    "Valeurs dupliqués :"
   ]
  },
  {
   "cell_type": "code",
   "execution_count": 24,
   "metadata": {},
   "outputs": [
    {
     "name": "stdout",
     "output_type": "stream",
     "text": [
      "2\n"
     ]
    }
   ],
   "source": [
    "print(trainData.duplicated().sum())"
   ]
  },
  {
   "attachments": {},
   "cell_type": "markdown",
   "metadata": {},
   "source": [
    "Types des données :\n"
   ]
  },
  {
   "cell_type": "code",
   "execution_count": 19,
   "metadata": {},
   "outputs": [
    {
     "name": "stdout",
     "output_type": "stream",
     "text": [
      "profile pic               int64\n",
      "nums/length username    float64\n",
      "fullname words            int64\n",
      "nums/length fullname    float64\n",
      "name==username            int64\n",
      "description length        int64\n",
      "external URL              int64\n",
      "private                   int64\n",
      "#posts                    int64\n",
      "#followers                int64\n",
      "#follows                  int64\n",
      "fake                      int64\n",
      "dtype: object\n"
     ]
    }
   ],
   "source": [
    "print(trainData.dtypes)"
   ]
  },
  {
   "attachments": {},
   "cell_type": "markdown",
   "metadata": {},
   "source": [
    "Nombre d'elements"
   ]
  },
  {
   "cell_type": "code",
   "execution_count": 20,
   "metadata": {},
   "outputs": [
    {
     "name": "stdout",
     "output_type": "stream",
     "text": [
      "576\n"
     ]
    }
   ],
   "source": [
    "print(trainData.shape[0])"
   ]
  },
  {
   "attachments": {},
   "cell_type": "markdown",
   "metadata": {},
   "source": [
    "Nombres de features:"
   ]
  },
  {
   "cell_type": "code",
   "execution_count": 21,
   "metadata": {},
   "outputs": [
    {
     "name": "stdout",
     "output_type": "stream",
     "text": [
      "12\n"
     ]
    }
   ],
   "source": [
    "print(trainData.shape[1])"
   ]
  },
  {
   "attachments": {},
   "cell_type": "markdown",
   "metadata": {},
   "source": [
    "Quelques données du top :\n"
   ]
  },
  {
   "cell_type": "code",
   "execution_count": 23,
   "metadata": {},
   "outputs": [
    {
     "name": "stdout",
     "output_type": "stream",
     "text": [
      "   profile pic  nums/length username  fullname words  nums/length fullname   \n",
      "0            1                  0.27               0                   0.0  \\\n",
      "1            1                  0.00               2                   0.0   \n",
      "2            1                  0.10               2                   0.0   \n",
      "3            1                  0.00               1                   0.0   \n",
      "4            1                  0.00               2                   0.0   \n",
      "\n",
      "   name==username  description length  external URL  private  #posts   \n",
      "0               0                  53             0        0      32  \\\n",
      "1               0                  44             0        0     286   \n",
      "2               0                   0             0        1      13   \n",
      "3               0                  82             0        0     679   \n",
      "4               0                   0             0        1       6   \n",
      "\n",
      "   #followers  #follows  fake  \n",
      "0        1000       955     0  \n",
      "1        2740       533     0  \n",
      "2         159        98     0  \n",
      "3         414       651     0  \n",
      "4         151       126     0  \n"
     ]
    }
   ],
   "source": [
    "print(trainData.head())"
   ]
  },
  {
   "attachments": {},
   "cell_type": "markdown",
   "metadata": {},
   "source": [
    "Vous pouvez refaire les mêmes fonctions pour le jeu de test."
   ]
  },
  {
   "attachments": {},
   "cell_type": "markdown",
   "metadata": {},
   "source": [
    "### Analyses des features \n",
    "Il semble que l'on est les features suivantes dans nos jeux :\n",
    "- *profile pic*: Donnée binaire, si l'utilisateur à une photo de profil ou non\n",
    "- nums/length username: Ratio du nombre de caractère numérique par rapport à la longueur totale du prénom du compte\n",
    "- fullname words: Détermine le nombre total de mot pour définir le nom de famille d'un compte\n",
    "- nums/length fullname: Ratio du nombre de caractère numérique par rapport à la longueur totale du nom de famille du compte\n",
    "- name==username: Bool qui définit si le prénom est identique au nom de famille\n",
    "- description length: Longueur total de la bio du compte\n",
    "- external URL: Bool qui définit si on a présence d'une adresse web externe en bio\n",
    "- private: Bool qui définit si le compte est public ou privé\n",
    "- #posts: Nombre de poste que le compte a publié\n",
    "- #followers: Nombre de personne qui suive notre compte\n",
    "- #follow: Nombre de personne que l'on suit nous\n",
    "- #fake: Classe cible qui te défini si le compte est légit ou non"
   ]
  },
  {
   "cell_type": "code",
   "execution_count": null,
   "metadata": {},
   "outputs": [],
   "source": []
  },
  {
   "cell_type": "code",
   "execution_count": null,
   "metadata": {},
   "outputs": [],
   "source": []
  }
 ],
 "metadata": {
  "kernelspec": {
   "display_name": "Python3-10-9",
   "language": "python",
   "name": "python3"
  },
  "language_info": {
   "codemirror_mode": {
    "name": "ipython",
    "version": 3
   },
   "file_extension": ".py",
   "mimetype": "text/x-python",
   "name": "python",
   "nbconvert_exporter": "python",
   "pygments_lexer": "ipython3",
   "version": "3.10.10"
  },
  "orig_nbformat": 4
 },
 "nbformat": 4,
 "nbformat_minor": 2
}
